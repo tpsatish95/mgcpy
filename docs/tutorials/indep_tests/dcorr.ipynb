{
 "cells": [
  {
   "cell_type": "markdown",
   "metadata": {},
   "source": [
    "# Unbiased and Biased Distance Correlation (Dcorr)"
   ]
  },
  {
   "cell_type": "markdown",
   "metadata": {},
   "source": [
    "In this tutorial, we explore\n",
    "\n",
    "- The theory behind the Dcorr test statistic and p-value and it's equivalency with HSIC\n",
    "- The features of the implementation\n",
    "- A fast implementation of Dcorr"
   ]
  },
  {
   "cell_type": "markdown",
   "metadata": {},
   "source": [
    "## Theory"
   ]
  },
  {
   "cell_type": "markdown",
   "metadata": {},
   "source": [
    "### Formulation of test statistic and p-value"
   ]
  },
  {
   "cell_type": "markdown",
   "metadata": {},
   "source": [
    "The following description is adapted from [[1]](https://arxiv.org/abs/1907.02088):\n",
    "\n",
    "Dcorr can be used to measure linear and nonlinear associations between two random vectors of arbitrary dimension. Let ${\\mathbf{D}}^{\\mathbf{x}}$ be the $n \\times n$ distance matrix of $\\mathbf{x}$ and ${\\mathbf{D}}^{\\mathbf{y}}$ be the $n \\times n$ distance matrix of $\\mathbf{y}$. The distance covariance (Dcov) is defined as\n",
    "\n",
    "$$\\mathrm{Dcov}_n (\\mathbf{x}, \\mathbf{y}) = \\frac{1}{n^2} \\mathrm(tr) \\left( {{\\mathbf{D}}^{\\mathbf{x}} \\mathbf{H} {\\mathbf{D}}^{\\mathbf{y}} \\mathbf{H}} \\right).$$\n",
    "\n",
    "The normalized version of this covariance is Dcorr [[2]](https://projecteuclid.org/euclid.aos/1201012979) and can be calculated as\n",
    "\n",
    "$$\\mathrm{Dcorr}_n (\\mathbf{x}, \\mathbf{y}) = \\frac{\\mathrm{Dcov}_n (\\mathbf{x}, \\mathbf{y})}{\\sqrt{\\mathrm{Dcov}_n ( \\mathbf{x}, \\mathbf{x}) \\mathrm{Dcov}_n (\\mathbf{y}, \\mathbf{y})}}.$$\n",
    "\n",
    "The original Dcorr is biased. A modified matrix ${\\mathbf{C}}^{\\mathbf{x}}$ based on $\\mathbf{H} {\\mathbf{D}}^{\\mathbf{x}} \\mathbf{H}$ can be calculated as\n",
    "\n",
    "$${\\mathbf{C}_{ij}}^{\\mathbf{x}} =\n",
    "\\begin{cases}\n",
    "{\\mathbf{D}_{ij}}^{\\mathbf{x}} - \\frac{1}{n - 2} \\sum_{t = 1}^n {\\mathbf{D}_{it}}^{\\mathbf{x}} - \\frac{1}{n - 2} \\sum_{s = 1}^n {\\mathbf{D}_{sj}}^{\\mathbf{x}} + \\frac{1}{\\left( n - 1 \\right) (n - 2)} \\sum_{s, t = 1}^n {\\mathbf{D}_{st}}^{\\mathbf{x}}& i \\neq j \\\\\n",
    "0 & \\mathrm{otherwise}\n",
    "\\end{cases},$$\n",
    "\n",
    "and similarly for ${\\mathbf{C}}^{\\mathbf{y}}$. Then\n",
    "the unbiased Dcov (UDcorr) [[3]](https://projecteuclid.org/euclid.aos/1413810731) is thus\n",
    "\n",
    "$$ \\mathrm{UDcov}_n (\\mathbf{x}, \\mathbf{y}) = \\frac{1}{n (n - 3)} \\mathrm{tr} ({{\\mathbf{C}}^{\\mathbf{x}} {\\mathbf{C}}^{\\mathbf{y}}}).$$\n",
    "\n",
    "UDcorr can consequently be calculated using the same equation as the one used to Dcorr."
   ]
  },
  {
   "cell_type": "markdown",
   "metadata": {},
   "source": [
    "### Equivalency of Dcorr and HSIC"
   ]
  },
  {
   "cell_type": "markdown",
   "metadata": {},
   "source": [
    "The following description is adapted from [[1]](https://arxiv.org/abs/1907.02088):\n",
    "\n",
    "Hsic is a way to measure multivariate nonlinear associations given a specified kernel [[4]](https://arxiv.org/abs/0805.2368). Let ${\\mathbf{K}}^{\\mathbf{x}}$ be an $n \\times n$ kernel matrix of $\\mathbf{x}$ and ${\\mathbf{K}}^{\\mathbf{y}}$ be an $n \\times n$ kernel matrix of $\\mathbf{y}$. In addition, $\\mathbf{H} = \\mathbf{I} - (1 / n) \\mathbf{J}$ and is an $n \\times n$ centering matrix, where $\\mathbf{I}$ is the identify matrix of size $n \\times n$ and $\\mathbf{J}$ is a matrix of ones that is the same size. Then, Hsic is defined as\n",
    "\n",
    "$$\\mathrm{Hsic}_n (\\mathbf{x}, \\mathbf{y}) = \\frac{1}{n^2} \\mathrm{tr} ({{\\mathbf{K}}^{\\mathbf{x}} \\mathbf{H} {\\mathbf{K}}^{\\mathbf{y}} \\mathbf{H}}).$$\n",
    "\n",
    "The default kernel choice is the Gaussian kernel using the median distance as the bandwidth, which is a characteristic kernel that guarantees Hsic being a consistent test [[4](https://arxiv.org/abs/0805.2368), [5](http://www.jmlr.org/papers/v11/gretton10a.html)]. Specifically, the Gaussian kernel transformation for $\\mathbf{x}$  of the form $\\mathcal{N} (0, \\mathrm{med}{ ( x_i - x_j) })$ where $\\mathrm{med}$ refers to the dimension-wise median of $\\mathbf{x}$. The transformation for $\\mathbf{y}$ is defined similarly.\n",
    "\n",
    "Hsic and Dcorr are indeed equivalent in the sense that every valid kernel has a corresponding valid semimetric to ensure their equivalence, and vice versa [[6](https://projecteuclid.org/euclid.aos/1383661264), [7](https://arxiv.org/abs/1806.05514)]."
   ]
  },
  {
   "cell_type": "markdown",
   "metadata": {},
   "source": [
    "## Using Dcorr"
   ]
  },
  {
   "cell_type": "markdown",
   "metadata": {},
   "source": [
    "Before delving straight into function calls, let's first import some useful functions, to ensure consistency in these examples, we set the seed:"
   ]
  },
  {
   "cell_type": "code",
   "execution_count": 1,
   "metadata": {},
   "outputs": [],
   "source": [
    "%matplotlib inline\n",
    "import numpy as np\n",
    "import matplotlib.pyplot as plt; plt.style.use('classic')\n",
    "import matplotlib.ticker as ticker\n",
    "import seaborn as sns; sns.set(style=\"white\")\n",
    "\n",
    "from mgcpy.independence_tests.dcorr import DCorr\n",
    "from mgcpy.benchmarks import simulations as sims\n",
    "\n",
    "np.random.seed(12345678)"
   ]
  },
  {
   "cell_type": "markdown",
   "metadata": {},
   "source": [
    "To start, let's simulate some linear data:"
   ]
  },
  {
   "cell_type": "code",
   "execution_count": 2,
   "metadata": {},
   "outputs": [
    {
     "data": {
      "image/png": "[encoded data removed]",
      "text/plain": [
       "<Figure size 576x576 with 1 Axes>"
      ]
     },
     "metadata": {
      "needs_background": "light"
     },
     "output_type": "display_data"
    }
   ],
   "source": [
    "x, y = sims.linear_sim(num_samp=100, num_dim=1, noise=0.1)\n",
    "\n",
    "fig = plt.figure(figsize=(8,8))\n",
    "fig.suptitle(\"Linear Simulation\", fontsize=17)\n",
    "ax = sns.scatterplot(x=x[:,0], y=y[:,0])\n",
    "ax.set_xlabel('Simulated X', fontsize=15)\n",
    "ax.set_ylabel('Simulated Y', fontsize=15) \n",
    "plt.axis('equal')\n",
    "plt.xticks(fontsize=15)\n",
    "plt.yticks(fontsize=15)\n",
    "plt.show()"
   ]
  },
  {
   "cell_type": "markdown",
   "metadata": {},
   "source": [
    "The test statistic and p-value can be called by creating the `DCorr` object and simply calling the corresponding test statistic and p-value methods. The value of `which_test` can be modified to 3 different values: `biased` for biased Dcorr, `unbiased` for unbiased Dcorr, and `mantel` for Mantel."
   ]
  },
  {
   "cell_type": "code",
   "execution_count": 3,
   "metadata": {},
   "outputs": [
    {
     "name": "stdout",
     "output_type": "stream",
     "text": [
      "Dcorr test statistic: 0.9724847196117954\n",
      "P Value: 0.001\n"
     ]
    }
   ],
   "source": [
    "dcorr = DCorr(which_test='biased')\n",
    "dcorr_statistic, independence_test_metadata = dcorr.test_statistic(x, y)\n",
    "p_value, _ = dcorr.p_value(x, y)\n",
    "\n",
    "print(\"Dcorr test statistic:\", dcorr_statistic)\n",
    "print(\"P Value:\", p_value)"
   ]
  },
  {
   "cell_type": "markdown",
   "metadata": {},
   "source": [
    "Due to the similarities between Dcorr and MGC, many of the properties of the values of the test statistics are similar (value of 1 for linear, etc.). The p-value is bounded by the number of repetitions (in this case 1000). This is because since we are estimating the null distribution via permutation, this is the lowest value that we can be sufficiently sure is the p-value. It is worth noting that as in most of the other tests that use permutation to approximate the p-value, the `replication_factor` parameter can be set to the desired number.\n",
    "\n",
    "Unlike in the case of MGC, Dcorr struggles to consistently identify some nonlinear relationships."
   ]
  },
  {
   "cell_type": "code",
   "execution_count": 4,
   "metadata": {
    "scrolled": false
   },
   "outputs": [
    {
     "data": {
      "image/png": "[encoded data removed]",
      "text/plain": [
       "<Figure size 576x576 with 1 Axes>"
      ]
     },
     "metadata": {
      "needs_background": "light"
     },
     "output_type": "display_data"
    }
   ],
   "source": [
    "x, y = sims.spiral_sim(num_samp=100, num_dim=1, noise=0.1)\n",
    "\n",
    "fig = plt.figure(figsize=(8,8))\n",
    "fig.suptitle(\"Spiral Simulation\", fontsize=17)\n",
    "ax = sns.scatterplot(x=x[:,0], y=y[:,0])\n",
    "ax.set_xlabel('Simulated X', fontsize=15)\n",
    "ax.set_ylabel('Simulated Y', fontsize=15) \n",
    "plt.axis('equal')\n",
    "plt.xticks(fontsize=15)\n",
    "plt.yticks(fontsize=15)\n",
    "plt.show()"
   ]
  },
  {
   "cell_type": "markdown",
   "metadata": {},
   "source": [
    "Applying Dcorr on this data,"
   ]
  },
  {
   "cell_type": "code",
   "execution_count": 5,
   "metadata": {
    "scrolled": true
   },
   "outputs": [
    {
     "name": "stdout",
     "output_type": "stream",
     "text": [
      "Dcorr test statistic: 0.012101670566301154\n",
      "P Value: 0.19970250056635008\n"
     ]
    }
   ],
   "source": [
    "dcorr = DCorr(which_test='unbiased')\n",
    "dcorr_statistic, independence_test_metadata = dcorr.test_statistic(x, y)\n",
    "p_value, _ = dcorr.p_value(x, y)\n",
    "\n",
    "print(\"Dcorr test statistic:\", dcorr_statistic)\n",
    "print(\"P Value:\", p_value)"
   ]
  },
  {
   "cell_type": "markdown",
   "metadata": {},
   "source": [
    "Here, Dcorr has a p-value greater than the alpha value of 0.05, which is not desirable."
   ]
  },
  {
   "cell_type": "markdown",
   "metadata": {},
   "source": [
    "## A faster version of Dcorr (Fast Dcorr)"
   ]
  },
  {
   "cell_type": "markdown",
   "metadata": {},
   "source": [
    "Dcorr operates in $\\mathcal{O} (n^2)$ time. To make things faster, Fast Dcorr can be used. This version of Dcorr takes bootstrapped subsamples of the input data matrices and estimates the null distribution using the subsamples. Fast Dcorr, thus, operates in $\\mathcal{O} (n)$ time.\n",
    "\n",
    "Calling Fast Dcorr is similar to calling Dcorr except that the `is_fast` flag should be set to `True` in either the `test_statistic` or `p_value` methods. The number of subsamples used can either be defined or can be chosen optimally from the provided data. Using the some linear data as before,"
   ]
  },
  {
   "cell_type": "code",
   "execution_count": 6,
   "metadata": {},
   "outputs": [
    {
     "name": "stdout",
     "output_type": "stream",
     "text": [
      "Biased P Value: 0.001\n",
      "Unbiased P Value: 0.001\n"
     ]
    }
   ],
   "source": [
    "x, y = sims.linear_sim(100000, 1)\n",
    "\n",
    "b_dcorr = DCorr(which_test=\"biased\")\n",
    "u_dcorr = DCorr(which_test=\"unbiased\")\n",
    "\n",
    "b_p_value, _ = b_dcorr.p_value(x, y, is_fast=True)\n",
    "u_p_value, _ = u_dcorr.p_value(x, y, is_fast=True)\n",
    "\n",
    "print(\"Biased P Value:\", b_p_value)\n",
    "print(\"Unbiased P Value:\", u_p_value)"
   ]
  },
  {
   "cell_type": "markdown",
   "metadata": {},
   "source": [
    "This is able to calculate many more samples in a time faster than Dcorr!"
   ]
  },
  {
   "cell_type": "markdown",
   "metadata": {},
   "source": [
    "# Mantel"
   ]
  },
  {
   "cell_type": "markdown",
   "metadata": {},
   "source": [
    "In this tutorial, we explore\n",
    "\n",
    "- The theory behind the Mantel test statistic and p-value\n",
    "- The features of the implementation"
   ]
  },
  {
   "cell_type": "markdown",
   "metadata": {},
   "source": [
    "## Theory"
   ]
  },
  {
   "cell_type": "markdown",
   "metadata": {},
   "source": [
    "Mantel is one of the earliest distance-based statistic for independence [[8]](https://cancerres.aacrjournals.org/content/27/2_Part_1/209), which achieves some success in testing without consistency testing (Mantel is later shown to be not consistent, see [[4]](https://projecteuclid.org/euclid.aop/1378991840)). Given $\\mathbf{x}$ and $\\mathbf{y}$, suppose that an appropriate distance measure is used to calculate two  $n \\times n$ distance matrices ${\\mathbf{D}}^{\\mathbf{x}}$ and ${\\mathbf{D}}^{\\mathbf{y}}$ respectively, e.g., Euclidean distance. Let the centered matrix be calculated as,\n",
    "\n",
    "$$ {\\mathbf{C}_{ij}}^{\\mathbf{x}} = {\\mathbf{D}_{ij}}^{\\mathbf{x}} - \\frac{1}{n (n - 1)} \\sum_{i, j = 1}^n {\\mathbf{D}_{ij}}^{\\mathbf{x}},$$\n",
    "\n",
    "similarly for ${\\mathbf{C}}^{\\mathbf{y}}$. Consider a function of $\\mathbf{x}$ and $\\mathbf{y}$, $M$, such that,\n",
    "\n",
    "$$M_n (\\mathbf{x}, \\mathbf{y}) = \\mathrm{trace}({{\\mathbf{C}}^{\\mathbf{x}} {\\mathbf{C}}^{\\mathbf{y}}}).$$\n",
    "\n",
    "Then, the Mantel coefficient is calculated as,\n",
    "\n",
    "$$ \\mathrm{Mantel}_n (\\mathbf{x}, \\mathbf{y}) = \\frac{M_n (\\mathbf{x}, \\mathbf{y})}{\\sqrt{M_n (\\mathbf{x}, \\mathbf{x}) M_n (\\mathbf{y}, \\mathbf{y})}}.$$"
   ]
  },
  {
   "cell_type": "markdown",
   "metadata": {},
   "source": [
    "## Using Mantel"
   ]
  },
  {
   "cell_type": "markdown",
   "metadata": {},
   "source": [
    "To start, let's simulate some linear data:"
   ]
  },
  {
   "cell_type": "code",
   "execution_count": 7,
   "metadata": {},
   "outputs": [
    {
     "data": {
      "image/png": "[encoded data removed]",
      "text/plain": [
       "<Figure size 576x576 with 1 Axes>"
      ]
     },
     "metadata": {
      "needs_background": "light"
     },
     "output_type": "display_data"
    }
   ],
   "source": [
    "x, y = sims.linear_sim(num_samp=100, num_dim=1, noise=0.1)\n",
    "\n",
    "fig = plt.figure(figsize=(8,8))\n",
    "fig.suptitle(\"Linear Simulation\", fontsize=17)\n",
    "ax = sns.scatterplot(x=x[:,0], y=y[:,0])\n",
    "ax.set_xlabel('Simulated X', fontsize=15)\n",
    "ax.set_ylabel('Simulated Y', fontsize=15) \n",
    "plt.axis('equal')\n",
    "plt.xticks(fontsize=15)\n",
    "plt.yticks(fontsize=15)\n",
    "plt.show()"
   ]
  },
  {
   "cell_type": "markdown",
   "metadata": {},
   "source": [
    "The test statistic and p-value can be called by creating the `DCorr` object and simply calling the corresponding test statistic and p-value methods. The value of `which_test` can be modified to 3 different values: `biased` for biased Dcorr, `unbiased` for unbiased Dcorr, and `mantel` for Mantel."
   ]
  },
  {
   "cell_type": "code",
   "execution_count": 8,
   "metadata": {},
   "outputs": [
    {
     "name": "stdout",
     "output_type": "stream",
     "text": [
      "Dcorr test statistic: 0.9591913132744958\n",
      "P Value: 0.001\n"
     ]
    }
   ],
   "source": [
    "dcorr = DCorr(which_test='mantel')\n",
    "dcorr_statistic, independence_test_metadata = dcorr.test_statistic(x, y)\n",
    "p_value, _ = dcorr.p_value(x, y)\n",
    "\n",
    "print(\"Dcorr test statistic:\", dcorr_statistic)\n",
    "print(\"P Value:\", p_value)"
   ]
  },
  {
   "cell_type": "markdown",
   "metadata": {},
   "source": [
    "The p-value is bounded by the number of repetitions (in this case 1000). This is because since we are estimating the null distribution via permutation, this is the lowest value that we can be sufficiently sure is the p-value. It is worth noting that as in most of the other tests that use permutation to approximate the p-value, the `replication_factor` parameter can be set to the desired number."
   ]
  }
 ],
 "metadata": {
  "kernelspec": {
   "display_name": "Python 3",
   "language": "python",
   "name": "python3"
  },
  "language_info": {
   "codemirror_mode": {
    "name": "ipython",
    "version": 3
   },
   "file_extension": ".py",
   "mimetype": "text/x-python",
   "name": "python",
   "nbconvert_exporter": "python",
   "pygments_lexer": "ipython3",
   "version": "3.7.3"
  }
 },
 "nbformat": 4,
 "nbformat_minor": 2
}
