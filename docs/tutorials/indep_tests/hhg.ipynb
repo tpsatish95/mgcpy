{
 "cells": [
  {
   "cell_type": "markdown",
   "metadata": {},
   "source": [
    "# Heller, Heller, Gorfine (HHG)"
   ]
  },
  {
   "cell_type": "markdown",
   "metadata": {},
   "source": [
    "In this tutorial, we explore\n",
    "\n",
    "- The theory behind the HHG test statistic and p-value\n",
    "- The features of the implementation"
   ]
  },
  {
   "cell_type": "markdown",
   "metadata": {},
   "source": [
    "## Theory"
   ]
  },
  {
   "cell_type": "markdown",
   "metadata": {},
   "source": [
    "|                                                           | $d_{\\mathbf{x}}(x_i,\\cdot) \\leq d_{\\mathbf{x}}(x_i,x_j)$ | $d_{\\mathbf{x}}(x_i,\\cdot) > d_{\\mathbf{x}}(x_i,x_j)$ |                    |\n",
    "| :-------------------------------------------------------: | :---------------------------------------------------------------: | :---------------------------------------------------: | :----------------: |\n",
    "| $d_{\\mathbf{y}}(y_i,\\cdot) \\leq d_{\\mathbf{y}}(y_i, y_j)$ | $A_{11}(i, j)$                                                    | $A_{12}(i, j)$                                        | $A_{1\\cdot}(i, j)$ |\n",
    "| $d_{\\mathbf{y}}(y_i,\\cdot) > d_{\\mathbf{y}}(y_i, y_j)$    | $A_{21}(i, j)$                                                    | $A_{22}(i, j)$                                        | $A_{2\\cdot}(i, j)$ |\n",
    "|                                                           | $A_{\\cdot 1}(i, j)$                                                | $A_{\\cdot 2}(i, j)$                                   | $n-2$              |\n",
    "\n",
    "The following description is adapted from [[1]](https://arxiv.org/abs/1907.02088):\n",
    "\n",
    "HHG is a consistent multivariate test of associations based on the rank of the distances [[2]](https://academic.oup.com/biomet/article-abstract/100/2/503/202568). For every sample point $j \\neq i$, denote a point in the joint sample space as $(x_j, y_j)$. Let $d_{\\mathbf{x}} (x_i, x_j)$ be equivalent to the norm distance between samples $x_i$ and $x_j$ and $d_{\\mathbf{y}} (y_i, y_j)$ is similarly defined. The indicator function is denoted by $\\mathbb{I} \\{ \\cdot \\}$. The cross-classification between these two random variables can be formulated as in the above table, where\n",
    "\n",
    "$$ A_{11} = \\sum_{k = 1, k \\neq i, j}^n \\mathbb{I} \\left\\{ d_{\\mathbf{x}} (x_i, x_k) \\leq d_{\\mathbf{x}} (x_i, x_j) \\right\\} \\mathbb{I} \\left\\{ d_{\\mathbf{y}} (y_i, y_k) \\leq d_{\\mathbf{y}} (y_i, y_j) \\right\\},$$\n",
    "\n",
    "and $A_{12}$, $A_{21}$, and $A_{22}$ are defined similarly. $A_{\\cdot 1}$, $A_{\\cdot 2}$, $A_{1 \\cdot}$, and $A_{2 \\cdot}$ are the sums of the columns and rows respectively.\n",
    "\n",
    "Once this table is generated, the Pearson's chi square test statistic can be calculated using\n",
    "$$S (i, j) = \\frac{(n - 2) {\\left( A_{12} A_{21} - A_{11} A_{22} \\right)}^2}{A_{1 \\cdot} A_{2 \\cdot} A_{\\cdot 1} A_{\\cdot 2}}.$$\n",
    "\n",
    "From here, the HHG test statistic is simply\n",
    "\n",
    "$$\\mathrm{HHG}_n = \\sum_{i = 1}^n \\sum_{j = 1, j \\neq i}^n S (i, j).$$\n",
    "\n",
    "The p-value is then calculated using a standard permutation test."
   ]
  },
  {
   "cell_type": "markdown",
   "metadata": {},
   "source": [
    "## Using HHG"
   ]
  },
  {
   "cell_type": "markdown",
   "metadata": {},
   "source": [
    "Before delving straight into function calls, let's first import some useful functions, to ensure consistency in these examples, we set the seed:"
   ]
  },
  {
   "cell_type": "code",
   "execution_count": 1,
   "metadata": {},
   "outputs": [],
   "source": [
    "%matplotlib inline\n",
    "import numpy as np\n",
    "import matplotlib.pyplot as plt; plt.style.use('classic')\n",
    "import seaborn as sns; sns.set(style=\"white\")\n",
    "\n",
    "from mgcpy.independence_tests.hhg import HHG\n",
    "from mgcpy.benchmarks import simulations as sims\n",
    "\n",
    "np.random.seed(12345678)"
   ]
  },
  {
   "cell_type": "markdown",
   "metadata": {},
   "source": [
    "To start, let's simulate some linear data:"
   ]
  },
  {
   "cell_type": "code",
   "execution_count": 2,
   "metadata": {},
   "outputs": [
    {
     "data": {
      "image/png": "[encoded data removed]",
      "text/plain": [
       "<Figure size 576x576 with 1 Axes>"
      ]
     },
     "metadata": {
      "needs_background": "light"
     },
     "output_type": "display_data"
    }
   ],
   "source": [
    "x, y = sims.linear_sim(num_samp=20, num_dim=1, noise=0.1)\n",
    "\n",
    "fig = plt.figure(figsize=(8,8))\n",
    "fig.suptitle(\"Linear Simulation\", fontsize=17)\n",
    "ax = sns.scatterplot(x=x[:,0], y=y[:,0])\n",
    "ax.set_xlabel('Simulated X', fontsize=15)\n",
    "ax.set_ylabel('Simulated Y', fontsize=15) \n",
    "plt.axis('equal')\n",
    "plt.xticks(fontsize=15)\n",
    "plt.yticks(fontsize=15)\n",
    "plt.show()"
   ]
  },
  {
   "cell_type": "markdown",
   "metadata": {},
   "source": [
    "The test statistic and p-value can be called by creating the `HHG` object and simply calling the corresponding test statistic and p-value methods."
   ]
  },
  {
   "cell_type": "code",
   "execution_count": 3,
   "metadata": {},
   "outputs": [
    {
     "name": "stdout",
     "output_type": "stream",
     "text": [
      "HHG test statistic: 3996.8554895896664\n",
      "P Value: 0.001\n"
     ]
    }
   ],
   "source": [
    "hhg = HHG()\n",
    "hhg_statistic, independence_test_metadata = hhg.test_statistic(x, y)\n",
    "p_value, _ = hhg.p_value(x, y)\n",
    "\n",
    "print(\"HHG test statistic:\", hhg_statistic)\n",
    "print(\"P Value:\", p_value)"
   ]
  },
  {
   "cell_type": "markdown",
   "metadata": {},
   "source": [
    "Because HHG is uses a permutation test, the p-value is bounded by the number of repetitions (in this case 1000). This is because since we are estimating the null distribution via permutation, this is the lowest value that we can be sufficiently sure is the p-value. It is worth noting that as in most of the other tests that use permutation to approximate the p-value, the `replication_factor` parameter can be set to the desired number."
   ]
  }
 ],
 "metadata": {
  "kernelspec": {
   "display_name": "Python 3",
   "language": "python",
   "name": "python3"
  },
  "language_info": {
   "codemirror_mode": {
    "name": "ipython",
    "version": 3
   },
   "file_extension": ".py",
   "mimetype": "text/x-python",
   "name": "python",
   "nbconvert_exporter": "python",
   "pygments_lexer": "ipython3",
   "version": "3.7.3"
  }
 },
 "nbformat": 4,
 "nbformat_minor": 2
}
