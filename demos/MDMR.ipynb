{
 "cells": [
  {
   "cell_type": "markdown",
   "metadata": {},
   "source": [
    "# MDMR Tutorial"
   ]
  },
  {
   "cell_type": "code",
   "execution_count": 1,
   "metadata": {},
   "outputs": [],
   "source": [
    "# please comment out the next 4 lines when running on the docker, they are meant to fix the path on a personal computer\n",
    "#import sys\n",
    "#module_path = \"C:\\\\Users\\\\sunda\\\\Desktop\\\\AAA FA18 JHU\\\\NDD1\\\\gitscr\\\\mgcpy\"\n",
    "#if module_path not in sys.path:\n",
    "#    sys.path.append(module_path)\n",
    "    \n",
    "import numpy as np\n",
    "from mgcpy.independence_tests.mdmr import MDMR"
   ]
  },
  {
   "cell_type": "code",
   "execution_count": 2,
   "metadata": {},
   "outputs": [
    {
     "name": "stdout",
     "output_type": "stream",
     "text": [
      "MDMR statistic for data from R MDMR implementation = [79.43449382]\n"
     ]
    }
   ],
   "source": [
    "# data from R's implementation of MDMR\n",
    "X = np.genfromtxt('../mgcpy/independence_tests/unit_tests/mdmr/data/X_mdmr.csv', delimiter=\",\")\n",
    "Y = np.genfromtxt('../mgcpy/independence_tests/unit_tests/mdmr/data/Y_mdmr.csv', delimiter=\",\")\n",
    "\n",
    "#statistic for all of data\n",
    "mdmr = MDMR()\n",
    "a, _ = mdmr.test_statistic(X, Y)\n",
    "print(\"MDMR statistic for data from R MDMR implementation =\",a)"
   ]
  },
  {
   "cell_type": "code",
   "execution_count": 3,
   "metadata": {},
   "outputs": [
    {
     "name": "stdout",
     "output_type": "stream",
     "text": [
      "MDMR statistic for data from R MDMR implementation = [79.43449382]\n",
      "MDMR statistic for variable 1 of X = 10.772903841496253\n",
      "MDMR statistic for variable 2 of X = 3.993675101550822\n",
      "MDMR statistic for variable 3 of X = 12.421294413838664\n"
     ]
    }
   ],
   "source": [
    "#statistics for each variable of X individually\n",
    "a, indarray = mdmr.test_statistic(X, Y, individual=1)\n",
    "print(\"MDMR statistic for data from R MDMR implementation =\",a)\n",
    "print(\"MDMR statistic for variable 1 of X =\", indarray[0,1])\n",
    "print(\"MDMR statistic for variable 2 of X =\", indarray[1,1])\n",
    "print(\"MDMR statistic for variable 3 of X =\", indarray[2,1])"
   ]
  },
  {
   "cell_type": "code",
   "execution_count": 4,
   "metadata": {},
   "outputs": [
    {
     "name": "stdout",
     "output_type": "stream",
     "text": [
      "P-value for data from R MDMR implementation = 0.0\n"
     ]
    }
   ],
   "source": [
    "#p-value for all of the data\n",
    "b, _ = mdmr.p_value(X, Y)\n",
    "print(\"P-value for data from R MDMR implementation =\", b)"
   ]
  },
  {
   "cell_type": "code",
   "execution_count": 5,
   "metadata": {},
   "outputs": [
    {
     "name": "stdout",
     "output_type": "stream",
     "text": [
      "P-value for variable 1 of X = 0.0\n",
      "P-value for variable 2 of X = 0.0\n",
      "P-value for variable 3 of X = 0.0\n"
     ]
    }
   ],
   "source": [
    "# p-value for each varibles of X individually\n",
    "indarray = mdmr.ind_p_value(X, Y)\n",
    "print(\"P-value for variable 1 of X =\", indarray[0,2])\n",
    "print(\"P-value for variable 2 of X =\", indarray[1,2])\n",
    "print(\"P-value for variable 3 of X =\", indarray[2,2])"
   ]
  },
  {
   "cell_type": "code",
   "execution_count": 6,
   "metadata": {},
   "outputs": [],
   "source": [
    "from mgcpy.benchmarks import simulations as sims"
   ]
  },
  {
   "cell_type": "code",
   "execution_count": 22,
   "metadata": {},
   "outputs": [
    {
     "name": "stdout",
     "output_type": "stream",
     "text": [
      "MDMR statistic for linear data = [96.87943463]\n",
      "P-value for linear data = 0.299\n"
     ]
    }
   ],
   "source": [
    "# Linear data\n",
    "X, Y = sims.linear_sim(num_samp=5, num_dim=100, noise=0.1)\n",
    "mdmr = MDMR()\n",
    "statistic, _ = mdmr.test_statistic(X,Y)\n",
    "pval, _ = mdmr.p_value(X,Y)\n",
    "print(\"MDMR statistic for linear data =\", statistic)\n",
    "print(\"P-value for linear data =\", pval)"
   ]
  },
  {
   "cell_type": "code",
   "execution_count": 8,
   "metadata": {},
   "outputs": [
    {
     "name": "stdout",
     "output_type": "stream",
     "text": [
      "MDMR statistic for spiral data = [0.09025398]\n",
      "P-value for spiral data = 0.77\n"
     ]
    },
    {
     "name": "stderr",
     "output_type": "stream",
     "text": [
      "/anaconda3/lib/python3.7/site-packages/mgcpy/independence_tests/abstract_class.py:153: UserWarning: The p-value is greater than 0.05, implying that the results are not statistically significant.\n",
      "Use results such as test_statistic and optimal_scale, with caution!\n",
      "  warnings.warn(\"The p-value is greater than 0.05, implying that the results are not statistically significant.\\n\" +\n"
     ]
    }
   ],
   "source": [
    "# Spiral data\n",
    "X, Y = sims.spiral_sim(num_samp=60, num_dim=1, noise=0.1)\n",
    "mdmr = MDMR()\n",
    "statistic, _ = mdmr.test_statistic(X,Y)\n",
    "pval, _ = mdmr.p_value(X,Y)\n",
    "print(\"MDMR statistic for spiral data =\", statistic)\n",
    "print(\"P-value for spiral data =\", pval)"
   ]
  },
  {
   "cell_type": "code",
   "execution_count": 9,
   "metadata": {},
   "outputs": [
    {
     "name": "stdout",
     "output_type": "stream",
     "text": [
      "MDMR statistic for logarithmic data = [0.00117557]\n",
      "P-value for logarithmic data = 0.975\n"
     ]
    }
   ],
   "source": [
    "# Logarithmic data\n",
    "X, Y = sims.log_sim(num_samp=60, num_dim=1, noise=0.1)\n",
    "mdmr = MDMR()\n",
    "statistic, _ = mdmr.test_statistic(X,Y)\n",
    "pval, _ = mdmr.p_value(X,Y)\n",
    "print(\"MDMR statistic for logarithmic data =\", statistic)\n",
    "print(\"P-value for logarithmic data =\", pval)"
   ]
  },
  {
   "cell_type": "code",
   "execution_count": 10,
   "metadata": {},
   "outputs": [
    {
     "name": "stdout",
     "output_type": "stream",
     "text": [
      "MDMR statistic for step data = [240.04402901]\n",
      "P-value for step data = 0.0\n"
     ]
    }
   ],
   "source": [
    "# Step data\n",
    "X, Y = sims.step_sim(num_samp=60, num_dim=1, noise=0.1)\n",
    "mdmr = MDMR()\n",
    "statistic, _ = mdmr.test_statistic(X,Y)\n",
    "pval, _ = mdmr.p_value(X,Y)\n",
    "print(\"MDMR statistic for step data =\", statistic)\n",
    "print(\"P-value for step data =\", pval)"
   ]
  },
  {
   "cell_type": "code",
   "execution_count": 11,
   "metadata": {},
   "outputs": [
    {
     "name": "stdout",
     "output_type": "stream",
     "text": [
      "MDMR statistic for W data = [0.0123303]\n",
      "P-value for W data = 0.914\n"
     ]
    }
   ],
   "source": [
    "# W data\n",
    "X, Y = sims.w_sim(num_samp=60, num_dim=1, noise=0.1)\n",
    "mdmr = MDMR()\n",
    "statistic, _ = mdmr.test_statistic(X,Y)\n",
    "pval, _ = mdmr.p_value(X,Y)\n",
    "print(\"MDMR statistic for W data =\", statistic)\n",
    "print(\"P-value for W data =\", pval)"
   ]
  },
  {
   "cell_type": "code",
   "execution_count": null,
   "metadata": {},
   "outputs": [],
   "source": []
  },
  {
   "cell_type": "code",
   "execution_count": null,
   "metadata": {},
   "outputs": [],
   "source": []
  },
  {
   "cell_type": "code",
   "execution_count": null,
   "metadata": {},
   "outputs": [],
   "source": []
  },
  {
   "cell_type": "code",
   "execution_count": null,
   "metadata": {},
   "outputs": [],
   "source": []
  }
 ],
 "metadata": {
  "kernelspec": {
   "display_name": "Python 3",
   "language": "python",
   "name": "python3"
  },
  "language_info": {
   "codemirror_mode": {
    "name": "ipython",
    "version": 3
   },
   "file_extension": ".py",
   "mimetype": "text/x-python",
   "name": "python",
   "nbconvert_exporter": "python",
   "pygments_lexer": "ipython3",
   "version": "3.7.3"
  }
 },
 "nbformat": 4,
 "nbformat_minor": 2
}
