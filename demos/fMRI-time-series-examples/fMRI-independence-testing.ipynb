{
 "cells": [
  {
   "cell_type": "markdown",
   "metadata": {},
   "source": [
    "## DCorr-X and MGC-X on fMRI Data\n",
    "\n",
    "The demo below shows the cross-distance covariance (DCorrX) test and multiscale graph correlation time series (MGC-X) test for independence of time series on fMRI data."
   ]
  },
  {
   "cell_type": "code",
   "execution_count": null,
   "metadata": {
    "collapsed": true
   },
   "outputs": [],
   "source": [
    "# Import dependencies.\n",
    "import numpy as np\n",
    "import nibabel.cifti2 as ci\n",
    "import matplotlib.pyplot as plt\n",
    "import seaborn as sns; sns.set()\n",
    "import math\n",
    "\n",
    "from mgcpy.independence_tests.dcorrx import DCorrX\n",
    "from mgcpy.independence_tests.mgcx import MGCX"
   ]
  },
  {
   "cell_type": "code",
   "execution_count": null,
   "metadata": {
    "collapsed": true
   },
   "outputs": [],
   "source": [
    "# Load image - individual 100307.\n",
    "img = ci.load(\"rfMRI_REST1_LR_Atlas_hp2000_clean_filt_sm6.HCPMMP.ptseries.nii\")\n",
    "fmri_data = np.array(img.get_fdata())"
   ]
  },
  {
   "cell_type": "code",
   "execution_count": null,
   "metadata": {
    "collapsed": true
   },
   "outputs": [],
   "source": [
    "# Visualize data, i.e. inspect the first 30 timesteps of each parcel.\n",
    "\n",
    "# Generate heatmap.\n",
    "timesteps = 30\n",
    "displayed_data = np.transpose(fmri_data[range(timesteps),:])\n",
    "plt.subplots(figsize=(15,10))\n",
    "ax = sns.heatmap(displayed_data, yticklabels=False)\n",
    "\n",
    "# Plot parameters.\n",
    "plt.title('Resting fMRI Signal by Parcel - Individual 100307 LR', fontsize = 20)\n",
    "plt.ylabel('Parcel', fontsize = 15)\n",
    "plt.xlabel('Timestep', fontsize = 15)\n",
    "plt.show()"
   ]
  },
  {
   "cell_type": "markdown",
   "metadata": {},
   "source": [
    "**We now inspect the dependence between parcels using DCorrX and MGC-X.**"
   ]
  },
  {
   "cell_type": "code",
   "execution_count": null,
   "metadata": {
    "collapsed": true
   },
   "outputs": [],
   "source": [
    "# Parameters and constants.\n",
    "p = fmri_data.shape[1] # Number of parcels.\n",
    "num_bootstrap = 100 # Number of permutations to estimate p-value.\n",
    "verbose = True # Print output to track progress.\n",
    "M = 0 # Number of lags in the past to inspect."
   ]
  },
  {
   "cell_type": "code",
   "execution_count": null,
   "metadata": {
    "collapsed": true
   },
   "outputs": [],
   "source": [
    "# Function to compute the four matrices with test statistic values and optimal lag/scale.\n",
    "def compute_dcorrx_matrices(sample_indices):\n",
    "    dcorrx = DCorrX(max_lag = M)\n",
    "    \n",
    "    dcorrx_stat_matrix = np.zeros(p*p).reshape(p, p)\n",
    "    dcorrx_optimal_lag_matrix = np.zeros(p*p).reshape(p, p)\n",
    "\n",
    "    n = len(sample_indices)\n",
    "    for i in range(p):\n",
    "        # Display progress.\n",
    "        if verbose:\n",
    "            if i % math.floor(p / 10):\n",
    "                print(\".\", end=\"\")\n",
    "            else:\n",
    "                print(\"\\n Estimating dependence structure of parcel\", str(i))\n",
    "\n",
    "        # Off-diagonal entries - measure dependence between parcels.\n",
    "        for j in range(i):\n",
    "            if verbose and not i % math.floor(p / 10) and not j % math.floor(p / 36):\n",
    "                print(\".\", end='')\n",
    "            X = fmri_data[sample_indices,i].reshape(n, 1)\n",
    "            Y = fmri_data[sample_indices,j].reshape(n, 1)\n",
    "\n",
    "            dcorrx_stat_matrix[i,j], metadata = dcorrx.test_statistic(X, Y)\n",
    "            dcorrx_optimal_lag_matrix[i,j] = metadata['optimal_lag']\n",
    "            dcorrx_stat_matrix[j,i], metadata = dcorrx.test_statistic(Y, X)\n",
    "            dcorrx_optimal_lag_matrix[j,i] = metadata['optimal_lag']\n",
    "\n",
    "    filename = \"dcorrx_stat_matrix_%d.csv\" % n\n",
    "    np.savetxt(filename, dcorrx_stat_matrix, delimiter=\",\")\n",
    "    filename = \"dcorrx_optimal_lag_matrix_%d.csv\" % n\n",
    "    np.savetxt(filename, dcorrx_optimal_lag_matrix, delimiter=\",\")"
   ]
  },
  {
   "cell_type": "code",
   "execution_count": null,
   "metadata": {
    "collapsed": true
   },
   "outputs": [],
   "source": [
    "# Function to compute the four matrices with test statistic values and optimal lag/scale.\n",
    "def compute_mgcx_matrices(sample_indices):\n",
    "    mgcx = MGCX(max_lag = M)\n",
    "    \n",
    "    mgcx_stat_matrix = np.zeros(p*p).reshape(p, p)\n",
    "    mgcx_optimal_lag_matrix = np.zeros(p*p).reshape(p, p)\n",
    "    mgcx_optimal_scale_matrix_X = np.zeros(p*p).reshape(p, p)\n",
    "    mgcx_optimal_scale_matrix_Y = np.zeros(p*p).reshape(p, p)\n",
    "\n",
    "    n = len(sample_indices)\n",
    "    for i in range(p):\n",
    "        # Display progress.\n",
    "        if verbose:\n",
    "            if i % math.floor(p / 10):\n",
    "                print(\".\", end=\"\")\n",
    "            else:\n",
    "                print(\"\\n Estimating dependence structure of parcel\", str(i))\n",
    "\n",
    "        for j in range(i):\n",
    "            if verbose and not i % math.floor(p / 10) and not j % math.floor(p / 36):\n",
    "                print(\".\", end='')\n",
    "            X = fmri_data[sample_indices,i].reshape(n, 1)\n",
    "            Y = fmri_data[sample_indices,j].reshape(n, 1)\n",
    "\n",
    "            mgcx_stat_matrix[i,j], metadata = mgcx.test_statistic(X, Y)\n",
    "            mgcx_optimal_lag_matrix[i,j] = metadata['optimal_lag']\n",
    "            mgcx_optimal_scale_matrix_X[i,j] = metadata['optimal_scale'][0]\n",
    "            mgcx_optimal_scale_matrix_Y[i,j] = metadata['optimal_scale'][1]\n",
    "            \n",
    "            mgcx_stat_matrix[j,i], metadata = mgcx.test_statistic(Y, X)\n",
    "            mgcx_optimal_lag_matrix[j,i] = metadata['optimal_lag']\n",
    "            mgcx_optimal_scale_matrix_X[j,i] = metadata['optimal_scale'][0]\n",
    "            mgcx_optimal_scale_matrix_Y[j,i] = metadata['optimal_scale'][1]\n",
    "\n",
    "    filename = \"mgcx_stat_matrix_%d.csv\" % n\n",
    "    np.savetxt(filename, mgcx_stat_matrix, delimiter=\",\")\n",
    "    filename = \"mgcx_optimal_lag_matrix_%d.csv\" % n\n",
    "    np.savetxt(filename, mgcx_optimal_lag_matrix, delimiter=\",\")\n",
    "    filename = \"mgcx_optimal_scale_matrix_X_%d.csv\" % n\n",
    "    np.savetxt(filename, mgcx_optimal_scale_matrix_X, delimiter=\",\")\n",
    "    filename = \"mgcx_optimal_scale_matrix_Y_%d.csv\" % n\n",
    "    np.savetxt(filename, mgcx_optimal_scale_matrix_Y, delimiter=\",\")"
   ]
  },
  {
   "cell_type": "code",
   "execution_count": null,
   "metadata": {
    "collapsed": true
   },
   "outputs": [],
   "source": [
    "# Use 'sample_indices' to control down sampling. If you only want to consider the first 300 timesteps, then run:\n",
    "# compute_dcorrx_matrices(range(300))\n",
    "compute_mgcx_matrices(range(300))"
   ]
  },
  {
   "cell_type": "code",
   "execution_count": null,
   "metadata": {
    "collapsed": true
   },
   "outputs": [],
   "source": [
    "# DCorrX: visualization.\n",
    "\n",
    "# TO DO: Use labels organizing parcels into regions, and visualize heatmap of p-values and test_statistics.\n",
    "\n",
    "# Be sure to check the file name from which you want to read!\n",
    "n = 300\n",
    "dcorrx_stat_matrix = np.genfromtxt(\"dcorrx_stat_matrix_%d.csv\" % n, delimiter=',')\n",
    "spread = dcorrx_stat_matrix.max() - dcorrx_stat_matrix.min()\n",
    "dcorrx_stat_matrix = dcorrx_stat_matrix / spread\n",
    "plt.subplots(figsize=(18,16))\n",
    "ax = sns.heatmap(dcorrx_stat_matrix)\n",
    "\n",
    "# Plot parameters.\n",
    "plt.title('DCorrX Test Statistic Resting fMRI %d Timesteps - 100307 LR' % n, fontsize = 20)\n",
    "plt.ylabel('Parcel', fontsize = 17)\n",
    "plt.xlabel('Parcel', fontsize = 17)\n",
    "plt.show()"
   ]
  },
  {
   "cell_type": "code",
   "execution_count": null,
   "metadata": {
    "collapsed": true
   },
   "outputs": [],
   "source": [
    "# MGCX: visualization.\n",
    "\n",
    "# TO DO: Use labels organizing parcels into regions, and visualize heatmap of p-values and test_statistics.\n",
    "\n",
    "# Be sure to check the file name from which you want to read!\n",
    "n = 300\n",
    "mgcx_stat_matrix = np.genfromtxt(\"mgcx_stat_matrix_%d.csv\" % n, delimiter=',')\n",
    "spread = mgcx_stat_matrix.max() - mgcx_stat_matrix.min()\n",
    "mgcx_stat_matrix = mgcx_stat_matrix / spread\n",
    "plt.subplots(figsize=(18,16))\n",
    "ax = sns.heatmap(mgcx_stat_matrix)\n",
    "\n",
    "# Plot parameters.\n",
    "plt.title('MGCX Test Statistic Resting fMRI %d Timesteps - 100307 LR' % n, fontsize = 20)\n",
    "plt.ylabel('Parcel', fontsize = 17)\n",
    "plt.xlabel('Parcel', fontsize = 17)\n",
    "plt.show()"
   ]
  }
 ],
 "metadata": {
  "kernelspec": {
   "display_name": "Python 3",
   "language": "python",
   "name": "python3"
  },
  "language_info": {
   "codemirror_mode": {
    "name": "ipython",
    "version": 3
   },
   "file_extension": ".py",
   "mimetype": "text/x-python",
   "name": "python",
   "nbconvert_exporter": "python",
   "pygments_lexer": "ipython3",
   "version": "3.6.3"
  }
 },
 "nbformat": 4,
 "nbformat_minor": 2
}
